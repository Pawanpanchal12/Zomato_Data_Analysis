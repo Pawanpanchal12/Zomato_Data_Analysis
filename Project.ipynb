{
 "cells": [
  {
   "cell_type": "code",
   "execution_count": 272,
   "id": "f04eeac1",
   "metadata": {},
   "outputs": [],
   "source": [
    "import numpy as np\n",
    "import pandas as pd\n",
    "import matplotlib.pyplot as plt\n",
    "import matplotlib.cm as cm\n",
    "import seaborn as sns\n",
    "import random\n",
    "import warnings\n",
    "warnings.simplefilter(action='ignore', category=Warning)"
   ]
  },
  {
   "cell_type": "code",
   "execution_count": 273,
   "id": "495a8528",
   "metadata": {},
   "outputs": [],
   "source": [
    "#Importing and reading csv file\n",
    "df=pd.read_csv(\"/Users/pawanpanchal/Downloads/zomato.csv\")"
   ]
  },
  {
   "cell_type": "markdown",
   "id": "df98e033",
   "metadata": {},
   "source": [
    "# Exploring Datas"
   ]
  },
  {
   "cell_type": "code",
   "execution_count": 274,
   "id": "e0e8d60f",
   "metadata": {},
   "outputs": [
    {
     "data": {
      "text/html": [
       "<div>\n",
       "<style scoped>\n",
       "    .dataframe tbody tr th:only-of-type {\n",
       "        vertical-align: middle;\n",
       "    }\n",
       "\n",
       "    .dataframe tbody tr th {\n",
       "        vertical-align: top;\n",
       "    }\n",
       "\n",
       "    .dataframe thead th {\n",
       "        text-align: right;\n",
       "    }\n",
       "</style>\n",
       "<table border=\"1\" class=\"dataframe\">\n",
       "  <thead>\n",
       "    <tr style=\"text-align: right;\">\n",
       "      <th></th>\n",
       "      <th>url</th>\n",
       "      <th>address</th>\n",
       "      <th>name</th>\n",
       "      <th>online_order</th>\n",
       "      <th>book_table</th>\n",
       "      <th>rate</th>\n",
       "      <th>votes</th>\n",
       "      <th>phone</th>\n",
       "      <th>location</th>\n",
       "      <th>rest_type</th>\n",
       "      <th>dish_liked</th>\n",
       "      <th>cuisines</th>\n",
       "      <th>approx_cost(for two people)</th>\n",
       "      <th>reviews_list</th>\n",
       "      <th>menu_item</th>\n",
       "      <th>listed_in(type)</th>\n",
       "      <th>listed_in(city)</th>\n",
       "    </tr>\n",
       "  </thead>\n",
       "  <tbody>\n",
       "    <tr>\n",
       "      <th>0</th>\n",
       "      <td>https://www.zomato.com/bangalore/jalsa-banasha...</td>\n",
       "      <td>942, 21st Main Road, 2nd Stage, Banashankari, ...</td>\n",
       "      <td>Jalsa</td>\n",
       "      <td>Yes</td>\n",
       "      <td>Yes</td>\n",
       "      <td>4.1/5</td>\n",
       "      <td>775</td>\n",
       "      <td>080 42297555\\r\\n+91 9743772233</td>\n",
       "      <td>Banashankari</td>\n",
       "      <td>Casual Dining</td>\n",
       "      <td>Pasta, Lunch Buffet, Masala Papad, Paneer Laja...</td>\n",
       "      <td>North Indian, Mughlai, Chinese</td>\n",
       "      <td>800</td>\n",
       "      <td>[('Rated 4.0', 'RATED\\n  A beautiful place to ...</td>\n",
       "      <td>[]</td>\n",
       "      <td>Buffet</td>\n",
       "      <td>Banashankari</td>\n",
       "    </tr>\n",
       "    <tr>\n",
       "      <th>1</th>\n",
       "      <td>https://www.zomato.com/bangalore/spice-elephan...</td>\n",
       "      <td>2nd Floor, 80 Feet Road, Near Big Bazaar, 6th ...</td>\n",
       "      <td>Spice Elephant</td>\n",
       "      <td>Yes</td>\n",
       "      <td>No</td>\n",
       "      <td>4.1/5</td>\n",
       "      <td>787</td>\n",
       "      <td>080 41714161</td>\n",
       "      <td>Banashankari</td>\n",
       "      <td>Casual Dining</td>\n",
       "      <td>Momos, Lunch Buffet, Chocolate Nirvana, Thai G...</td>\n",
       "      <td>Chinese, North Indian, Thai</td>\n",
       "      <td>800</td>\n",
       "      <td>[('Rated 4.0', 'RATED\\n  Had been here for din...</td>\n",
       "      <td>[]</td>\n",
       "      <td>Buffet</td>\n",
       "      <td>Banashankari</td>\n",
       "    </tr>\n",
       "    <tr>\n",
       "      <th>2</th>\n",
       "      <td>https://www.zomato.com/SanchurroBangalore?cont...</td>\n",
       "      <td>1112, Next to KIMS Medical College, 17th Cross...</td>\n",
       "      <td>San Churro Cafe</td>\n",
       "      <td>Yes</td>\n",
       "      <td>No</td>\n",
       "      <td>3.8/5</td>\n",
       "      <td>918</td>\n",
       "      <td>+91 9663487993</td>\n",
       "      <td>Banashankari</td>\n",
       "      <td>Cafe, Casual Dining</td>\n",
       "      <td>Churros, Cannelloni, Minestrone Soup, Hot Choc...</td>\n",
       "      <td>Cafe, Mexican, Italian</td>\n",
       "      <td>800</td>\n",
       "      <td>[('Rated 3.0', \"RATED\\n  Ambience is not that ...</td>\n",
       "      <td>[]</td>\n",
       "      <td>Buffet</td>\n",
       "      <td>Banashankari</td>\n",
       "    </tr>\n",
       "    <tr>\n",
       "      <th>3</th>\n",
       "      <td>https://www.zomato.com/bangalore/addhuri-udupi...</td>\n",
       "      <td>1st Floor, Annakuteera, 3rd Stage, Banashankar...</td>\n",
       "      <td>Addhuri Udupi Bhojana</td>\n",
       "      <td>No</td>\n",
       "      <td>No</td>\n",
       "      <td>3.7/5</td>\n",
       "      <td>88</td>\n",
       "      <td>+91 9620009302</td>\n",
       "      <td>Banashankari</td>\n",
       "      <td>Quick Bites</td>\n",
       "      <td>Masala Dosa</td>\n",
       "      <td>South Indian, North Indian</td>\n",
       "      <td>300</td>\n",
       "      <td>[('Rated 4.0', \"RATED\\n  Great food and proper...</td>\n",
       "      <td>[]</td>\n",
       "      <td>Buffet</td>\n",
       "      <td>Banashankari</td>\n",
       "    </tr>\n",
       "    <tr>\n",
       "      <th>4</th>\n",
       "      <td>https://www.zomato.com/bangalore/grand-village...</td>\n",
       "      <td>10, 3rd Floor, Lakshmi Associates, Gandhi Baza...</td>\n",
       "      <td>Grand Village</td>\n",
       "      <td>No</td>\n",
       "      <td>No</td>\n",
       "      <td>3.8/5</td>\n",
       "      <td>166</td>\n",
       "      <td>+91 8026612447\\r\\n+91 9901210005</td>\n",
       "      <td>Basavanagudi</td>\n",
       "      <td>Casual Dining</td>\n",
       "      <td>Panipuri, Gol Gappe</td>\n",
       "      <td>North Indian, Rajasthani</td>\n",
       "      <td>600</td>\n",
       "      <td>[('Rated 4.0', 'RATED\\n  Very good restaurant ...</td>\n",
       "      <td>[]</td>\n",
       "      <td>Buffet</td>\n",
       "      <td>Banashankari</td>\n",
       "    </tr>\n",
       "  </tbody>\n",
       "</table>\n",
       "</div>"
      ],
      "text/plain": [
       "                                                 url  \\\n",
       "0  https://www.zomato.com/bangalore/jalsa-banasha...   \n",
       "1  https://www.zomato.com/bangalore/spice-elephan...   \n",
       "2  https://www.zomato.com/SanchurroBangalore?cont...   \n",
       "3  https://www.zomato.com/bangalore/addhuri-udupi...   \n",
       "4  https://www.zomato.com/bangalore/grand-village...   \n",
       "\n",
       "                                             address                   name  \\\n",
       "0  942, 21st Main Road, 2nd Stage, Banashankari, ...                  Jalsa   \n",
       "1  2nd Floor, 80 Feet Road, Near Big Bazaar, 6th ...         Spice Elephant   \n",
       "2  1112, Next to KIMS Medical College, 17th Cross...        San Churro Cafe   \n",
       "3  1st Floor, Annakuteera, 3rd Stage, Banashankar...  Addhuri Udupi Bhojana   \n",
       "4  10, 3rd Floor, Lakshmi Associates, Gandhi Baza...          Grand Village   \n",
       "\n",
       "  online_order book_table   rate  votes                             phone  \\\n",
       "0          Yes        Yes  4.1/5    775    080 42297555\\r\\n+91 9743772233   \n",
       "1          Yes         No  4.1/5    787                      080 41714161   \n",
       "2          Yes         No  3.8/5    918                    +91 9663487993   \n",
       "3           No         No  3.7/5     88                    +91 9620009302   \n",
       "4           No         No  3.8/5    166  +91 8026612447\\r\\n+91 9901210005   \n",
       "\n",
       "       location            rest_type  \\\n",
       "0  Banashankari        Casual Dining   \n",
       "1  Banashankari        Casual Dining   \n",
       "2  Banashankari  Cafe, Casual Dining   \n",
       "3  Banashankari          Quick Bites   \n",
       "4  Basavanagudi        Casual Dining   \n",
       "\n",
       "                                          dish_liked  \\\n",
       "0  Pasta, Lunch Buffet, Masala Papad, Paneer Laja...   \n",
       "1  Momos, Lunch Buffet, Chocolate Nirvana, Thai G...   \n",
       "2  Churros, Cannelloni, Minestrone Soup, Hot Choc...   \n",
       "3                                        Masala Dosa   \n",
       "4                                Panipuri, Gol Gappe   \n",
       "\n",
       "                         cuisines approx_cost(for two people)  \\\n",
       "0  North Indian, Mughlai, Chinese                         800   \n",
       "1     Chinese, North Indian, Thai                         800   \n",
       "2          Cafe, Mexican, Italian                         800   \n",
       "3      South Indian, North Indian                         300   \n",
       "4        North Indian, Rajasthani                         600   \n",
       "\n",
       "                                        reviews_list menu_item  \\\n",
       "0  [('Rated 4.0', 'RATED\\n  A beautiful place to ...        []   \n",
       "1  [('Rated 4.0', 'RATED\\n  Had been here for din...        []   \n",
       "2  [('Rated 3.0', \"RATED\\n  Ambience is not that ...        []   \n",
       "3  [('Rated 4.0', \"RATED\\n  Great food and proper...        []   \n",
       "4  [('Rated 4.0', 'RATED\\n  Very good restaurant ...        []   \n",
       "\n",
       "  listed_in(type) listed_in(city)  \n",
       "0          Buffet    Banashankari  \n",
       "1          Buffet    Banashankari  \n",
       "2          Buffet    Banashankari  \n",
       "3          Buffet    Banashankari  \n",
       "4          Buffet    Banashankari  "
      ]
     },
     "execution_count": 274,
     "metadata": {},
     "output_type": "execute_result"
    }
   ],
   "source": [
    "#Viewing top 5 values of dataframe\n",
    "df.head()"
   ]
  },
  {
   "cell_type": "markdown",
   "id": "1d5f45da",
   "metadata": {},
   "source": [
    "# Shape of dataframe"
   ]
  },
  {
   "cell_type": "code",
   "execution_count": 275,
   "id": "3f58221d",
   "metadata": {},
   "outputs": [
    {
     "data": {
      "text/plain": [
       "(51717, 17)"
      ]
     },
     "execution_count": 275,
     "metadata": {},
     "output_type": "execute_result"
    }
   ],
   "source": [
    "# Shape of dataframe\n",
    "df.shape     # we are looking 51717 raws and 17 columns avilable in dataframe. Now we can analyze columns.\n"
   ]
  },
  {
   "cell_type": "code",
   "execution_count": 276,
   "id": "74cf9365",
   "metadata": {},
   "outputs": [
    {
     "data": {
      "text/plain": [
       "Index(['url', 'address', 'name', 'online_order', 'book_table', 'rate', 'votes',\n",
       "       'phone', 'location', 'rest_type', 'dish_liked', 'cuisines',\n",
       "       'approx_cost(for two people)', 'reviews_list', 'menu_item',\n",
       "       'listed_in(type)', 'listed_in(city)'],\n",
       "      dtype='object')"
      ]
     },
     "execution_count": 276,
     "metadata": {},
     "output_type": "execute_result"
    }
   ],
   "source": [
    "df.columns   "
   ]
  },
  {
   "cell_type": "markdown",
   "id": "237310cc",
   "metadata": {},
   "source": [
    "# Statstics"
   ]
  },
  {
   "cell_type": "code",
   "execution_count": 277,
   "id": "d2f4e3c4",
   "metadata": {},
   "outputs": [
    {
     "data": {
      "text/html": [
       "<div>\n",
       "<style scoped>\n",
       "    .dataframe tbody tr th:only-of-type {\n",
       "        vertical-align: middle;\n",
       "    }\n",
       "\n",
       "    .dataframe tbody tr th {\n",
       "        vertical-align: top;\n",
       "    }\n",
       "\n",
       "    .dataframe thead th {\n",
       "        text-align: right;\n",
       "    }\n",
       "</style>\n",
       "<table border=\"1\" class=\"dataframe\">\n",
       "  <thead>\n",
       "    <tr style=\"text-align: right;\">\n",
       "      <th></th>\n",
       "      <th>votes</th>\n",
       "    </tr>\n",
       "  </thead>\n",
       "  <tbody>\n",
       "    <tr>\n",
       "      <th>count</th>\n",
       "      <td>51717.000000</td>\n",
       "    </tr>\n",
       "    <tr>\n",
       "      <th>mean</th>\n",
       "      <td>283.697527</td>\n",
       "    </tr>\n",
       "    <tr>\n",
       "      <th>std</th>\n",
       "      <td>803.838853</td>\n",
       "    </tr>\n",
       "    <tr>\n",
       "      <th>min</th>\n",
       "      <td>0.000000</td>\n",
       "    </tr>\n",
       "    <tr>\n",
       "      <th>25%</th>\n",
       "      <td>7.000000</td>\n",
       "    </tr>\n",
       "    <tr>\n",
       "      <th>50%</th>\n",
       "      <td>41.000000</td>\n",
       "    </tr>\n",
       "    <tr>\n",
       "      <th>75%</th>\n",
       "      <td>198.000000</td>\n",
       "    </tr>\n",
       "    <tr>\n",
       "      <th>max</th>\n",
       "      <td>16832.000000</td>\n",
       "    </tr>\n",
       "  </tbody>\n",
       "</table>\n",
       "</div>"
      ],
      "text/plain": [
       "              votes\n",
       "count  51717.000000\n",
       "mean     283.697527\n",
       "std      803.838853\n",
       "min        0.000000\n",
       "25%        7.000000\n",
       "50%       41.000000\n",
       "75%      198.000000\n",
       "max    16832.000000"
      ]
     },
     "execution_count": 277,
     "metadata": {},
     "output_type": "execute_result"
    }
   ],
   "source": [
    "#Statstics\n",
    "df.describe()"
   ]
  },
  {
   "cell_type": "code",
   "execution_count": 278,
   "id": "b30adc02",
   "metadata": {},
   "outputs": [
    {
     "name": "stdout",
     "output_type": "stream",
     "text": [
      "<class 'pandas.core.frame.DataFrame'>\n",
      "RangeIndex: 51717 entries, 0 to 51716\n",
      "Data columns (total 17 columns):\n",
      " #   Column                       Non-Null Count  Dtype \n",
      "---  ------                       --------------  ----- \n",
      " 0   url                          51717 non-null  object\n",
      " 1   address                      51717 non-null  object\n",
      " 2   name                         51717 non-null  object\n",
      " 3   online_order                 51717 non-null  object\n",
      " 4   book_table                   51717 non-null  object\n",
      " 5   rate                         43942 non-null  object\n",
      " 6   votes                        51717 non-null  int64 \n",
      " 7   phone                        50509 non-null  object\n",
      " 8   location                     51696 non-null  object\n",
      " 9   rest_type                    51490 non-null  object\n",
      " 10  dish_liked                   23639 non-null  object\n",
      " 11  cuisines                     51672 non-null  object\n",
      " 12  approx_cost(for two people)  51371 non-null  object\n",
      " 13  reviews_list                 51717 non-null  object\n",
      " 14  menu_item                    51717 non-null  object\n",
      " 15  listed_in(type)              51717 non-null  object\n",
      " 16  listed_in(city)              51717 non-null  object\n",
      "dtypes: int64(1), object(16)\n",
      "memory usage: 6.7+ MB\n"
     ]
    }
   ],
   "source": [
    "#info regarding dataframe\n",
    "df.info()     # in this dataframe 1 numerical and 16 categorical columns available"
   ]
  },
  {
   "cell_type": "code",
   "execution_count": 279,
   "id": "4c228a56",
   "metadata": {},
   "outputs": [
    {
     "data": {
      "text/plain": [
       "url                                0\n",
       "address                            0\n",
       "name                               0\n",
       "online_order                       0\n",
       "book_table                         0\n",
       "rate                            7775\n",
       "votes                              0\n",
       "phone                           1208\n",
       "location                          21\n",
       "rest_type                        227\n",
       "dish_liked                     28078\n",
       "cuisines                          45\n",
       "approx_cost(for two people)      346\n",
       "reviews_list                       0\n",
       "menu_item                          0\n",
       "listed_in(type)                    0\n",
       "listed_in(city)                    0\n",
       "dtype: int64"
      ]
     },
     "execution_count": 279,
     "metadata": {},
     "output_type": "execute_result"
    }
   ],
   "source": [
    "#Let's find null value\n",
    "df.isnull().sum()   "
   ]
  },
  {
   "cell_type": "markdown",
   "id": "eef84182",
   "metadata": {},
   "source": [
    "# Observations\n",
    "- we can observe \"dish_linked\"has lot of null values so we can drop null values.\n",
    "- in \"rate \" column we can fill null values.\n",
    "- \"rate\" column in string format so need to convert into float .\n",
    "- \"phone\" column not worth so we can drop\n",
    "- \"location\" & \"listed_in(city)\" are same so we can drop one column"
   ]
  },
  {
   "cell_type": "markdown",
   "id": "de77d678",
   "metadata": {},
   "source": [
    "# Drop Unwanted Columns"
   ]
  },
  {
   "cell_type": "code",
   "execution_count": 280,
   "id": "c26b9eba",
   "metadata": {},
   "outputs": [],
   "source": [
    "#Let'S drop unwanted column first \n",
    "df=df.drop([\"location\",\"phone\",\"menu_item\"],axis=1)"
   ]
  },
  {
   "cell_type": "code",
   "execution_count": 281,
   "id": "4920da04",
   "metadata": {},
   "outputs": [
    {
     "name": "stdout",
     "output_type": "stream",
     "text": [
      "<class 'pandas.core.frame.DataFrame'>\n",
      "RangeIndex: 51717 entries, 0 to 51716\n",
      "Data columns (total 14 columns):\n",
      " #   Column                       Non-Null Count  Dtype \n",
      "---  ------                       --------------  ----- \n",
      " 0   url                          51717 non-null  object\n",
      " 1   address                      51717 non-null  object\n",
      " 2   name                         51717 non-null  object\n",
      " 3   online_order                 51717 non-null  object\n",
      " 4   book_table                   51717 non-null  object\n",
      " 5   rate                         43942 non-null  object\n",
      " 6   votes                        51717 non-null  int64 \n",
      " 7   rest_type                    51490 non-null  object\n",
      " 8   dish_liked                   23639 non-null  object\n",
      " 9   cuisines                     51672 non-null  object\n",
      " 10  approx_cost(for two people)  51371 non-null  object\n",
      " 11  reviews_list                 51717 non-null  object\n",
      " 12  listed_in(type)              51717 non-null  object\n",
      " 13  listed_in(city)              51717 non-null  object\n",
      "dtypes: int64(1), object(13)\n",
      "memory usage: 5.5+ MB\n"
     ]
    }
   ],
   "source": [
    "df.info(2) # Dropped 3 columns"
   ]
  },
  {
   "cell_type": "code",
   "execution_count": 282,
   "id": "da2f9755",
   "metadata": {},
   "outputs": [],
   "source": [
    "# Drop duplicates\n",
    "df.drop_duplicates(inplace=True)"
   ]
  },
  {
   "cell_type": "markdown",
   "id": "97801a8d",
   "metadata": {},
   "source": [
    "# Shape Of Dataframe"
   ]
  },
  {
   "cell_type": "code",
   "execution_count": 283,
   "id": "452cfe18",
   "metadata": {},
   "outputs": [
    {
     "data": {
      "text/plain": [
       "(51717, 14)"
      ]
     },
     "execution_count": 283,
     "metadata": {},
     "output_type": "execute_result"
    }
   ],
   "source": [
    "#Now shape of dataframe\n",
    "df.shape"
   ]
  },
  {
   "cell_type": "code",
   "execution_count": 284,
   "id": "d71b0068",
   "metadata": {},
   "outputs": [
    {
     "data": {
      "text/plain": [
       "array(['4.1/5', '3.8/5', '3.7/5', '3.6/5', '4.6/5', '4.0/5', '4.2/5',\n",
       "       '3.9/5', '3.1/5', '3.0/5', '3.2/5', '3.3/5', '2.8/5', '4.4/5',\n",
       "       '4.3/5', 'NEW', '2.9/5', '3.5/5', nan, '2.6/5', '3.8 /5', '3.4/5',\n",
       "       '4.5/5', '2.5/5', '2.7/5', '4.7/5', '2.4/5', '2.2/5', '2.3/5',\n",
       "       '3.4 /5', '-', '3.6 /5', '4.8/5', '3.9 /5', '4.2 /5', '4.0 /5',\n",
       "       '4.1 /5', '3.7 /5', '3.1 /5', '2.9 /5', '3.3 /5', '2.8 /5',\n",
       "       '3.5 /5', '2.7 /5', '2.5 /5', '3.2 /5', '2.6 /5', '4.5 /5',\n",
       "       '4.3 /5', '4.4 /5', '4.9/5', '2.1/5', '2.0/5', '1.8/5', '4.6 /5',\n",
       "       '4.9 /5', '3.0 /5', '4.8 /5', '2.3 /5', '4.7 /5', '2.4 /5',\n",
       "       '2.1 /5', '2.2 /5', '2.0 /5', '1.8 /5'], dtype=object)"
      ]
     },
     "execution_count": 284,
     "metadata": {},
     "output_type": "execute_result"
    }
   ],
   "source": [
    "# now start cleaning ---->\n",
    "\n",
    "# Explore \"rate\" column\n",
    "df[\"rate\"].unique()"
   ]
  },
  {
   "cell_type": "markdown",
   "id": "2df3d4a4",
   "metadata": {},
   "source": [
    "===> we are looking lot of changes required.  need to clean/replace(\"nan\",\"New\",\"-\",/5)"
   ]
  },
  {
   "cell_type": "code",
   "execution_count": null,
   "id": "e974e9c9",
   "metadata": {},
   "outputs": [],
   "source": []
  },
  {
   "cell_type": "markdown",
   "id": "c811e8dc",
   "metadata": {},
   "source": [
    "# Removal of  \"NEW\",\"-\" and \"/5\" from rate column through function"
   ]
  },
  {
   "cell_type": "code",
   "execution_count": 285,
   "id": "a7785368",
   "metadata": {},
   "outputs": [],
   "source": [
    "#Removal of  \"NEW\",\"-\" and \"/5\" from rate column through function\n",
    "def handle_rate(value):\n",
    "    if (value ==\"NEW\" or value==\"-\"):\n",
    "         return np.nan\n",
    "    else:\n",
    "        value=str(value).split(\"/\")\n",
    "        value=value[0]\n",
    "        return float (value)\n",
    "    "
   ]
  },
  {
   "cell_type": "code",
   "execution_count": 286,
   "id": "87b453f8",
   "metadata": {},
   "outputs": [],
   "source": [
    "df[\"rate\"]=df[\"rate\"].apply(handle_rate)"
   ]
  },
  {
   "cell_type": "code",
   "execution_count": 287,
   "id": "7b8beaff",
   "metadata": {},
   "outputs": [
    {
     "data": {
      "text/plain": [
       "0    4.1\n",
       "1    4.1\n",
       "2    3.8\n",
       "3    3.7\n",
       "4    3.8\n",
       "Name: rate, dtype: float64"
      ]
     },
     "execution_count": 287,
     "metadata": {},
     "output_type": "execute_result"
    }
   ],
   "source": [
    "df[\"rate\"].head()  "
   ]
  },
  {
   "cell_type": "code",
   "execution_count": 288,
   "id": "24c5b1d4",
   "metadata": {},
   "outputs": [],
   "source": [
    "#Now handle null values ====> Filling null values with mean of rate column\n",
    "df[\"rate\"].fillna(df[\"rate\"].mean(),inplace=True)"
   ]
  },
  {
   "cell_type": "code",
   "execution_count": 289,
   "id": "e300601a",
   "metadata": {},
   "outputs": [
    {
     "data": {
      "text/plain": [
       "0"
      ]
     },
     "execution_count": 289,
     "metadata": {},
     "output_type": "execute_result"
    }
   ],
   "source": [
    "# Let's check null values in rate column\n",
    "df[\"rate\"].isnull().sum()      #0 null value in rate column.Almost done!"
   ]
  },
  {
   "cell_type": "code",
   "execution_count": 290,
   "id": "d868f503",
   "metadata": {},
   "outputs": [
    {
     "data": {
      "text/plain": [
       "array(['Banashankari', 'Bannerghatta Road', 'Basavanagudi', 'Bellandur',\n",
       "       'Brigade Road', 'Brookefield', 'BTM', 'Church Street',\n",
       "       'Electronic City', 'Frazer Town', 'HSR', 'Indiranagar',\n",
       "       'Jayanagar', 'JP Nagar', 'Kalyan Nagar', 'Kammanahalli',\n",
       "       'Koramangala 4th Block', 'Koramangala 5th Block',\n",
       "       'Koramangala 6th Block', 'Koramangala 7th Block', 'Lavelle Road',\n",
       "       'Malleshwaram', 'Marathahalli', 'MG Road', 'New BEL Road',\n",
       "       'Old Airport Road', 'Rajajinagar', 'Residency Road',\n",
       "       'Sarjapur Road', 'Whitefield'], dtype=object)"
      ]
     },
     "execution_count": 290,
     "metadata": {},
     "output_type": "execute_result"
    }
   ],
   "source": [
    "# Explore \"listed_in(city) \" column.\n",
    "df[\"listed_in(city)\"].unique()"
   ]
  },
  {
   "cell_type": "code",
   "execution_count": 291,
   "id": "f9ede12f",
   "metadata": {},
   "outputs": [
    {
     "data": {
      "text/plain": [
       "BTM                      3279\n",
       "Koramangala 7th Block    2938\n",
       "Koramangala 5th Block    2836\n",
       "Koramangala 4th Block    2779\n",
       "Koramangala 6th Block    2623\n",
       "Jayanagar                2371\n",
       "JP Nagar                 2096\n",
       "Indiranagar              1860\n",
       "Church Street            1827\n",
       "MG Road                  1811\n",
       "Brigade Road             1769\n",
       "Lavelle Road             1744\n",
       "HSR                      1741\n",
       "Marathahalli             1659\n",
       "Residency Road           1620\n",
       "Whitefield               1620\n",
       "Bannerghatta Road        1617\n",
       "Brookefield              1518\n",
       "Old Airport Road         1425\n",
       "Kammanahalli             1329\n",
       "Kalyan Nagar             1309\n",
       "Basavanagudi             1266\n",
       "Sarjapur Road            1261\n",
       "Electronic City          1229\n",
       "Bellandur                1227\n",
       "Frazer Town              1185\n",
       "Malleshwaram             1096\n",
       "Rajajinagar              1079\n",
       "Banashankari              863\n",
       "New BEL Road              740\n",
       "Name: listed_in(city), dtype: int64"
      ]
     },
     "execution_count": 291,
     "metadata": {},
     "output_type": "execute_result"
    }
   ],
   "source": [
    "#No. of orders according cities\n",
    "df[\"listed_in(city)\"].value_counts()  #Here are so many locations value. So we will consider top 15 locations"
   ]
  },
  {
   "cell_type": "code",
   "execution_count": 292,
   "id": "68a81910",
   "metadata": {},
   "outputs": [
    {
     "data": {
      "text/plain": [
       "BTM                      3279\n",
       "Koramangala 7th Block    2938\n",
       "Koramangala 5th Block    2836\n",
       "Koramangala 4th Block    2779\n",
       "Koramangala 6th Block    2623\n",
       "Jayanagar                2371\n",
       "JP Nagar                 2096\n",
       "Indiranagar              1860\n",
       "Church Street            1827\n",
       "MG Road                  1811\n",
       "Brigade Road             1769\n",
       "Lavelle Road             1744\n",
       "HSR                      1741\n",
       "Marathahalli             1659\n",
       "Residency Road           1620\n",
       "Name: listed_in(city), dtype: int64"
      ]
     },
     "execution_count": 292,
     "metadata": {},
     "output_type": "execute_result"
    }
   ],
   "source": [
    "#Top 15 locations\n",
    "df[\"listed_in(city)\"].value_counts()[:15]"
   ]
  },
  {
   "cell_type": "code",
   "execution_count": 293,
   "id": "5e064268",
   "metadata": {},
   "outputs": [
    {
     "data": {
      "text/plain": [
       "array(['800', '300', '600', '700', '550', '500', '450', '650', '400',\n",
       "       '900', '200', '750', '150', '850', '100', '1,200', '350', '250',\n",
       "       '950', '1,000', '1,500', '1,300', '199', '80', '1,100', '160',\n",
       "       '1,600', '230', '130', '50', '190', '1,700', nan, '1,400', '180',\n",
       "       '1,350', '2,200', '2,000', '1,800', '1,900', '330', '2,500',\n",
       "       '2,100', '3,000', '2,800', '3,400', '40', '1,250', '3,500',\n",
       "       '4,000', '2,400', '2,600', '120', '1,450', '469', '70', '3,200',\n",
       "       '60', '560', '240', '360', '6,000', '1,050', '2,300', '4,100',\n",
       "       '5,000', '3,700', '1,650', '2,700', '4,500', '140'], dtype=object)"
      ]
     },
     "execution_count": 293,
     "metadata": {},
     "output_type": "execute_result"
    }
   ],
   "source": [
    "# Now we start work on \"approx_cost(for two people)\" . we will rename but wait.........!\n",
    "df[\"approx_cost(for two people)\"].unique()"
   ]
  },
  {
   "cell_type": "markdown",
   "id": "9aeba291",
   "metadata": {},
   "source": [
    "===> Ahhhhh......! Lot of values seperated with comma .Now we need to start cleaning ."
   ]
  },
  {
   "cell_type": "code",
   "execution_count": 294,
   "id": "452cb805",
   "metadata": {},
   "outputs": [],
   "source": [
    "# Let's start cleaning work for \"approx_cost(for two people)\"\n",
    "def handle_comma(value):\n",
    "    value=str(value)\n",
    "    if ',' in value:\n",
    "        value= value.replace(',','')\n",
    "        return float(value)\n",
    "    else:\n",
    "        return float (value)\n",
    "        "
   ]
  },
  {
   "cell_type": "code",
   "execution_count": 295,
   "id": "c3c5d295",
   "metadata": {},
   "outputs": [],
   "source": [
    "df[\"approx_cost(for two people)\"]=df[\"approx_cost(for two people)\"].apply(handle_comma)"
   ]
  },
  {
   "cell_type": "code",
   "execution_count": 296,
   "id": "b8339137",
   "metadata": {},
   "outputs": [
    {
     "data": {
      "text/plain": [
       "array([ 800.,  300.,  600.,  700.,  550.,  500.,  450.,  650.,  400.,\n",
       "        900.,  200.,  750.,  150.,  850.,  100., 1200.,  350.,  250.,\n",
       "        950., 1000., 1500., 1300.,  199.,   80., 1100.,  160., 1600.,\n",
       "        230.,  130.,   50.,  190., 1700.,   nan, 1400.,  180., 1350.,\n",
       "       2200., 2000., 1800., 1900.,  330., 2500., 2100., 3000., 2800.,\n",
       "       3400.,   40., 1250., 3500., 4000., 2400., 2600.,  120., 1450.,\n",
       "        469.,   70., 3200.,   60.,  560.,  240.,  360., 6000., 1050.,\n",
       "       2300., 4100., 5000., 3700., 1650., 2700., 4500.,  140.])"
      ]
     },
     "execution_count": 296,
     "metadata": {},
     "output_type": "execute_result"
    }
   ],
   "source": [
    "df[\"approx_cost(for two people)\"].unique() #Removed comma with help of function\"handle_comma\""
   ]
  },
  {
   "cell_type": "code",
   "execution_count": 297,
   "id": "ff5de9b5",
   "metadata": {},
   "outputs": [],
   "source": [
    "# Now time to rename column \n",
    "df1=df.rename(columns={\"approx_cost(for two people)\":\"Cost\",\"listed_in(city)\":\"City\",\"listed_in(type)\":\"Type\"})   #Now we can check our new column name"
   ]
  },
  {
   "cell_type": "code",
   "execution_count": 298,
   "id": "80a7e5e0",
   "metadata": {},
   "outputs": [
    {
     "data": {
      "text/html": [
       "<div>\n",
       "<style scoped>\n",
       "    .dataframe tbody tr th:only-of-type {\n",
       "        vertical-align: middle;\n",
       "    }\n",
       "\n",
       "    .dataframe tbody tr th {\n",
       "        vertical-align: top;\n",
       "    }\n",
       "\n",
       "    .dataframe thead th {\n",
       "        text-align: right;\n",
       "    }\n",
       "</style>\n",
       "<table border=\"1\" class=\"dataframe\">\n",
       "  <thead>\n",
       "    <tr style=\"text-align: right;\">\n",
       "      <th></th>\n",
       "      <th>url</th>\n",
       "      <th>address</th>\n",
       "      <th>name</th>\n",
       "      <th>online_order</th>\n",
       "      <th>book_table</th>\n",
       "      <th>rate</th>\n",
       "      <th>votes</th>\n",
       "      <th>rest_type</th>\n",
       "      <th>dish_liked</th>\n",
       "      <th>cuisines</th>\n",
       "      <th>Cost</th>\n",
       "      <th>reviews_list</th>\n",
       "      <th>Type</th>\n",
       "      <th>City</th>\n",
       "    </tr>\n",
       "  </thead>\n",
       "  <tbody>\n",
       "    <tr>\n",
       "      <th>0</th>\n",
       "      <td>https://www.zomato.com/bangalore/jalsa-banasha...</td>\n",
       "      <td>942, 21st Main Road, 2nd Stage, Banashankari, ...</td>\n",
       "      <td>Jalsa</td>\n",
       "      <td>Yes</td>\n",
       "      <td>Yes</td>\n",
       "      <td>4.1</td>\n",
       "      <td>775</td>\n",
       "      <td>Casual Dining</td>\n",
       "      <td>Pasta, Lunch Buffet, Masala Papad, Paneer Laja...</td>\n",
       "      <td>North Indian, Mughlai, Chinese</td>\n",
       "      <td>800.0</td>\n",
       "      <td>[('Rated 4.0', 'RATED\\n  A beautiful place to ...</td>\n",
       "      <td>Buffet</td>\n",
       "      <td>Banashankari</td>\n",
       "    </tr>\n",
       "    <tr>\n",
       "      <th>1</th>\n",
       "      <td>https://www.zomato.com/bangalore/spice-elephan...</td>\n",
       "      <td>2nd Floor, 80 Feet Road, Near Big Bazaar, 6th ...</td>\n",
       "      <td>Spice Elephant</td>\n",
       "      <td>Yes</td>\n",
       "      <td>No</td>\n",
       "      <td>4.1</td>\n",
       "      <td>787</td>\n",
       "      <td>Casual Dining</td>\n",
       "      <td>Momos, Lunch Buffet, Chocolate Nirvana, Thai G...</td>\n",
       "      <td>Chinese, North Indian, Thai</td>\n",
       "      <td>800.0</td>\n",
       "      <td>[('Rated 4.0', 'RATED\\n  Had been here for din...</td>\n",
       "      <td>Buffet</td>\n",
       "      <td>Banashankari</td>\n",
       "    </tr>\n",
       "    <tr>\n",
       "      <th>2</th>\n",
       "      <td>https://www.zomato.com/SanchurroBangalore?cont...</td>\n",
       "      <td>1112, Next to KIMS Medical College, 17th Cross...</td>\n",
       "      <td>San Churro Cafe</td>\n",
       "      <td>Yes</td>\n",
       "      <td>No</td>\n",
       "      <td>3.8</td>\n",
       "      <td>918</td>\n",
       "      <td>Cafe, Casual Dining</td>\n",
       "      <td>Churros, Cannelloni, Minestrone Soup, Hot Choc...</td>\n",
       "      <td>Cafe, Mexican, Italian</td>\n",
       "      <td>800.0</td>\n",
       "      <td>[('Rated 3.0', \"RATED\\n  Ambience is not that ...</td>\n",
       "      <td>Buffet</td>\n",
       "      <td>Banashankari</td>\n",
       "    </tr>\n",
       "    <tr>\n",
       "      <th>3</th>\n",
       "      <td>https://www.zomato.com/bangalore/addhuri-udupi...</td>\n",
       "      <td>1st Floor, Annakuteera, 3rd Stage, Banashankar...</td>\n",
       "      <td>Addhuri Udupi Bhojana</td>\n",
       "      <td>No</td>\n",
       "      <td>No</td>\n",
       "      <td>3.7</td>\n",
       "      <td>88</td>\n",
       "      <td>Quick Bites</td>\n",
       "      <td>Masala Dosa</td>\n",
       "      <td>South Indian, North Indian</td>\n",
       "      <td>300.0</td>\n",
       "      <td>[('Rated 4.0', \"RATED\\n  Great food and proper...</td>\n",
       "      <td>Buffet</td>\n",
       "      <td>Banashankari</td>\n",
       "    </tr>\n",
       "    <tr>\n",
       "      <th>4</th>\n",
       "      <td>https://www.zomato.com/bangalore/grand-village...</td>\n",
       "      <td>10, 3rd Floor, Lakshmi Associates, Gandhi Baza...</td>\n",
       "      <td>Grand Village</td>\n",
       "      <td>No</td>\n",
       "      <td>No</td>\n",
       "      <td>3.8</td>\n",
       "      <td>166</td>\n",
       "      <td>Casual Dining</td>\n",
       "      <td>Panipuri, Gol Gappe</td>\n",
       "      <td>North Indian, Rajasthani</td>\n",
       "      <td>600.0</td>\n",
       "      <td>[('Rated 4.0', 'RATED\\n  Very good restaurant ...</td>\n",
       "      <td>Buffet</td>\n",
       "      <td>Banashankari</td>\n",
       "    </tr>\n",
       "  </tbody>\n",
       "</table>\n",
       "</div>"
      ],
      "text/plain": [
       "                                                 url  \\\n",
       "0  https://www.zomato.com/bangalore/jalsa-banasha...   \n",
       "1  https://www.zomato.com/bangalore/spice-elephan...   \n",
       "2  https://www.zomato.com/SanchurroBangalore?cont...   \n",
       "3  https://www.zomato.com/bangalore/addhuri-udupi...   \n",
       "4  https://www.zomato.com/bangalore/grand-village...   \n",
       "\n",
       "                                             address                   name  \\\n",
       "0  942, 21st Main Road, 2nd Stage, Banashankari, ...                  Jalsa   \n",
       "1  2nd Floor, 80 Feet Road, Near Big Bazaar, 6th ...         Spice Elephant   \n",
       "2  1112, Next to KIMS Medical College, 17th Cross...        San Churro Cafe   \n",
       "3  1st Floor, Annakuteera, 3rd Stage, Banashankar...  Addhuri Udupi Bhojana   \n",
       "4  10, 3rd Floor, Lakshmi Associates, Gandhi Baza...          Grand Village   \n",
       "\n",
       "  online_order book_table  rate  votes            rest_type  \\\n",
       "0          Yes        Yes   4.1    775        Casual Dining   \n",
       "1          Yes         No   4.1    787        Casual Dining   \n",
       "2          Yes         No   3.8    918  Cafe, Casual Dining   \n",
       "3           No         No   3.7     88          Quick Bites   \n",
       "4           No         No   3.8    166        Casual Dining   \n",
       "\n",
       "                                          dish_liked  \\\n",
       "0  Pasta, Lunch Buffet, Masala Papad, Paneer Laja...   \n",
       "1  Momos, Lunch Buffet, Chocolate Nirvana, Thai G...   \n",
       "2  Churros, Cannelloni, Minestrone Soup, Hot Choc...   \n",
       "3                                        Masala Dosa   \n",
       "4                                Panipuri, Gol Gappe   \n",
       "\n",
       "                         cuisines   Cost  \\\n",
       "0  North Indian, Mughlai, Chinese  800.0   \n",
       "1     Chinese, North Indian, Thai  800.0   \n",
       "2          Cafe, Mexican, Italian  800.0   \n",
       "3      South Indian, North Indian  300.0   \n",
       "4        North Indian, Rajasthani  600.0   \n",
       "\n",
       "                                        reviews_list    Type          City  \n",
       "0  [('Rated 4.0', 'RATED\\n  A beautiful place to ...  Buffet  Banashankari  \n",
       "1  [('Rated 4.0', 'RATED\\n  Had been here for din...  Buffet  Banashankari  \n",
       "2  [('Rated 3.0', \"RATED\\n  Ambience is not that ...  Buffet  Banashankari  \n",
       "3  [('Rated 4.0', \"RATED\\n  Great food and proper...  Buffet  Banashankari  \n",
       "4  [('Rated 4.0', 'RATED\\n  Very good restaurant ...  Buffet  Banashankari  "
      ]
     },
     "execution_count": 298,
     "metadata": {},
     "output_type": "execute_result"
    }
   ],
   "source": [
    "df1.head()"
   ]
  },
  {
   "cell_type": "code",
   "execution_count": 299,
   "id": "56ea7e9f",
   "metadata": {},
   "outputs": [
    {
     "data": {
      "text/plain": [
       "array(['Casual Dining', 'Cafe, Casual Dining', 'Quick Bites',\n",
       "       'Casual Dining, Cafe', 'Cafe', 'Quick Bites, Cafe',\n",
       "       'Cafe, Quick Bites', 'Delivery', 'Mess', 'Dessert Parlor',\n",
       "       'Bakery, Dessert Parlor', 'Pub', 'Bakery', 'Takeaway, Delivery',\n",
       "       'Fine Dining', 'Beverage Shop', 'Sweet Shop', 'Bar',\n",
       "       'Beverage Shop, Quick Bites', 'Confectionery',\n",
       "       'Quick Bites, Beverage Shop', 'Dessert Parlor, Sweet Shop',\n",
       "       'Bakery, Quick Bites', 'Sweet Shop, Quick Bites', 'Kiosk',\n",
       "       'Food Truck', 'Quick Bites, Dessert Parlor',\n",
       "       'Beverage Shop, Dessert Parlor', 'Takeaway', 'Pub, Casual Dining',\n",
       "       'Casual Dining, Bar', 'Dessert Parlor, Beverage Shop',\n",
       "       'Quick Bites, Bakery', 'Dessert Parlor, Quick Bites',\n",
       "       'Microbrewery, Casual Dining', 'Lounge', 'Bar, Casual Dining',\n",
       "       'Food Court', 'Cafe, Bakery', nan, 'Dhaba',\n",
       "       'Quick Bites, Sweet Shop', 'Microbrewery',\n",
       "       'Food Court, Quick Bites', 'Pub, Bar', 'Casual Dining, Pub',\n",
       "       'Lounge, Bar', 'Food Court, Dessert Parlor',\n",
       "       'Casual Dining, Sweet Shop', 'Food Court, Casual Dining',\n",
       "       'Casual Dining, Microbrewery', 'Sweet Shop, Dessert Parlor',\n",
       "       'Bakery, Beverage Shop', 'Lounge, Casual Dining',\n",
       "       'Cafe, Food Court', 'Beverage Shop, Cafe', 'Cafe, Dessert Parlor',\n",
       "       'Dessert Parlor, Cafe', 'Dessert Parlor, Bakery',\n",
       "       'Microbrewery, Pub', 'Bakery, Food Court', 'Club',\n",
       "       'Quick Bites, Food Court', 'Bakery, Cafe', 'Bar, Cafe',\n",
       "       'Pub, Cafe', 'Casual Dining, Irani Cafee', 'Fine Dining, Lounge',\n",
       "       'Bar, Quick Bites', 'Bakery, Kiosk', 'Pub, Microbrewery',\n",
       "       'Microbrewery, Lounge', 'Fine Dining, Microbrewery',\n",
       "       'Fine Dining, Bar', 'Mess, Quick Bites', 'Dessert Parlor, Kiosk',\n",
       "       'Bhojanalya', 'Casual Dining, Quick Bites', 'Pop Up', 'Cafe, Bar',\n",
       "       'Casual Dining, Lounge', 'Bakery, Sweet Shop', 'Microbrewery, Bar',\n",
       "       'Cafe, Lounge', 'Bar, Pub', 'Lounge, Cafe', 'Club, Casual Dining',\n",
       "       'Quick Bites, Mess', 'Quick Bites, Meat Shop',\n",
       "       'Quick Bites, Kiosk', 'Lounge, Microbrewery',\n",
       "       'Food Court, Beverage Shop', 'Dessert Parlor, Food Court',\n",
       "       'Bar, Lounge'], dtype=object)"
      ]
     },
     "execution_count": 299,
     "metadata": {},
     "output_type": "execute_result"
    }
   ],
   "source": [
    "# Now time to clean \"rest_type\" column\n",
    "df[\"rest_type\"].unique()      #Ahhhhh......!"
   ]
  },
  {
   "cell_type": "code",
   "execution_count": 300,
   "id": "5775aac4",
   "metadata": {},
   "outputs": [
    {
     "data": {
      "text/plain": [
       "Quick Bites                   19132\n",
       "Casual Dining                 10330\n",
       "Cafe                           3732\n",
       "Delivery                       2604\n",
       "Dessert Parlor                 2263\n",
       "                              ...  \n",
       "Dessert Parlor, Kiosk             2\n",
       "Food Court, Beverage Shop         2\n",
       "Dessert Parlor, Food Court        2\n",
       "Sweet Shop, Dessert Parlor        1\n",
       "Quick Bites, Kiosk                1\n",
       "Name: rest_type, Length: 93, dtype: int64"
      ]
     },
     "execution_count": 300,
     "metadata": {},
     "output_type": "execute_result"
    }
   ],
   "source": [
    "df[\"rest_type\"].value_counts()          # from here we can observe some restaurents have lot of orders and some few."
   ]
  },
  {
   "cell_type": "code",
   "execution_count": null,
   "id": "53def3e7",
   "metadata": {},
   "outputs": [],
   "source": []
  },
  {
   "cell_type": "code",
   "execution_count": 301,
   "id": "53ccaf59",
   "metadata": {},
   "outputs": [],
   "source": [
    "Rest=df[\"rest_type\"].value_counts(ascending=False)       #Stored in a variable"
   ]
  },
  {
   "cell_type": "code",
   "execution_count": 302,
   "id": "c31c3c33",
   "metadata": {},
   "outputs": [
    {
     "data": {
      "text/plain": [
       "Quick Bites                   19132\n",
       "Casual Dining                 10330\n",
       "Cafe                           3732\n",
       "Delivery                       2604\n",
       "Dessert Parlor                 2263\n",
       "                              ...  \n",
       "Dessert Parlor, Kiosk             2\n",
       "Food Court, Beverage Shop         2\n",
       "Dessert Parlor, Food Court        2\n",
       "Sweet Shop, Dessert Parlor        1\n",
       "Quick Bites, Kiosk                1\n",
       "Name: rest_type, Length: 93, dtype: int64"
      ]
     },
     "execution_count": 302,
     "metadata": {},
     "output_type": "execute_result"
    }
   ],
   "source": [
    "Rest"
   ]
  },
  {
   "cell_type": "code",
   "execution_count": 303,
   "id": "d8d1f8f0",
   "metadata": {},
   "outputs": [],
   "source": [
    "rest_above_1000=Rest[Rest>1000]"
   ]
  },
  {
   "cell_type": "code",
   "execution_count": 304,
   "id": "6e1b9be9",
   "metadata": {},
   "outputs": [
    {
     "data": {
      "text/plain": [
       "Quick Bites           19132\n",
       "Casual Dining         10330\n",
       "Cafe                   3732\n",
       "Delivery               2604\n",
       "Dessert Parlor         2263\n",
       "Takeaway, Delivery     2037\n",
       "Casual Dining, Bar     1154\n",
       "Bakery                 1141\n",
       "Name: rest_type, dtype: int64"
      ]
     },
     "execution_count": 304,
     "metadata": {},
     "output_type": "execute_result"
    }
   ],
   "source": [
    "rest_above_1000    #Filterd above 1000 orderd restaurents.So we will consider only these restaurents."
   ]
  },
  {
   "cell_type": "code",
   "execution_count": 305,
   "id": "30f18ffa",
   "metadata": {},
   "outputs": [],
   "source": [
    "rest_below_1000=Rest[Rest<1000]"
   ]
  },
  {
   "cell_type": "code",
   "execution_count": 306,
   "id": "6e572f3f",
   "metadata": {},
   "outputs": [
    {
     "data": {
      "text/plain": [
       "Beverage Shop                 867\n",
       "Bar                           697\n",
       "Food Court                    624\n",
       "Sweet Shop                    468\n",
       "Bar, Casual Dining            425\n",
       "                             ... \n",
       "Dessert Parlor, Kiosk           2\n",
       "Food Court, Beverage Shop       2\n",
       "Dessert Parlor, Food Court      2\n",
       "Sweet Shop, Dessert Parlor      1\n",
       "Quick Bites, Kiosk              1\n",
       "Name: rest_type, Length: 85, dtype: int64"
      ]
     },
     "execution_count": 306,
     "metadata": {},
     "output_type": "execute_result"
    }
   ],
   "source": [
    "rest_below_1000"
   ]
  },
  {
   "cell_type": "code",
   "execution_count": 307,
   "id": "2b55a5a1",
   "metadata": {},
   "outputs": [],
   "source": [
    "#Now you are thinking what will do below 1000 order restaurents. Relaxxxxxx...................!\n",
    "#We will consider them in others category.\n",
    "\n",
    "def handle_rest(value):\n",
    "\n",
    "    if (value in rest_below_1000):\n",
    "        return\"Others\"\n",
    "    else:\n",
    "        return value"
   ]
  },
  {
   "cell_type": "code",
   "execution_count": 308,
   "id": "21535f9f",
   "metadata": {},
   "outputs": [],
   "source": [
    "df['rest_type']=df['rest_type'].apply(handle_rest)"
   ]
  },
  {
   "cell_type": "code",
   "execution_count": 309,
   "id": "12774b12",
   "metadata": {},
   "outputs": [
    {
     "data": {
      "text/plain": [
       "Quick Bites           19132\n",
       "Casual Dining         10330\n",
       "Others                 9097\n",
       "Cafe                   3732\n",
       "Delivery               2604\n",
       "Dessert Parlor         2263\n",
       "Takeaway, Delivery     2037\n",
       "Casual Dining, Bar     1154\n",
       "Bakery                 1141\n",
       "Name: rest_type, dtype: int64"
      ]
     },
     "execution_count": 309,
     "metadata": {},
     "output_type": "execute_result"
    }
   ],
   "source": [
    "#Almost cleaning done...........\n",
    "df[\"rest_type\"].value_counts()"
   ]
  },
  {
   "cell_type": "code",
   "execution_count": 310,
   "id": "c1642802",
   "metadata": {},
   "outputs": [
    {
     "data": {
      "text/html": [
       "<div>\n",
       "<style scoped>\n",
       "    .dataframe tbody tr th:only-of-type {\n",
       "        vertical-align: middle;\n",
       "    }\n",
       "\n",
       "    .dataframe tbody tr th {\n",
       "        vertical-align: top;\n",
       "    }\n",
       "\n",
       "    .dataframe thead th {\n",
       "        text-align: right;\n",
       "    }\n",
       "</style>\n",
       "<table border=\"1\" class=\"dataframe\">\n",
       "  <thead>\n",
       "    <tr style=\"text-align: right;\">\n",
       "      <th></th>\n",
       "      <th>url</th>\n",
       "      <th>address</th>\n",
       "      <th>name</th>\n",
       "      <th>online_order</th>\n",
       "      <th>book_table</th>\n",
       "      <th>rate</th>\n",
       "      <th>votes</th>\n",
       "      <th>rest_type</th>\n",
       "      <th>dish_liked</th>\n",
       "      <th>cuisines</th>\n",
       "      <th>Cost</th>\n",
       "      <th>reviews_list</th>\n",
       "      <th>Type</th>\n",
       "      <th>City</th>\n",
       "    </tr>\n",
       "  </thead>\n",
       "  <tbody>\n",
       "    <tr>\n",
       "      <th>0</th>\n",
       "      <td>https://www.zomato.com/bangalore/jalsa-banasha...</td>\n",
       "      <td>942, 21st Main Road, 2nd Stage, Banashankari, ...</td>\n",
       "      <td>Jalsa</td>\n",
       "      <td>Yes</td>\n",
       "      <td>Yes</td>\n",
       "      <td>4.1</td>\n",
       "      <td>775</td>\n",
       "      <td>Casual Dining</td>\n",
       "      <td>Pasta, Lunch Buffet, Masala Papad, Paneer Laja...</td>\n",
       "      <td>North Indian, Mughlai, Chinese</td>\n",
       "      <td>800.0</td>\n",
       "      <td>[('Rated 4.0', 'RATED\\n  A beautiful place to ...</td>\n",
       "      <td>Buffet</td>\n",
       "      <td>Banashankari</td>\n",
       "    </tr>\n",
       "    <tr>\n",
       "      <th>1</th>\n",
       "      <td>https://www.zomato.com/bangalore/spice-elephan...</td>\n",
       "      <td>2nd Floor, 80 Feet Road, Near Big Bazaar, 6th ...</td>\n",
       "      <td>Spice Elephant</td>\n",
       "      <td>Yes</td>\n",
       "      <td>No</td>\n",
       "      <td>4.1</td>\n",
       "      <td>787</td>\n",
       "      <td>Casual Dining</td>\n",
       "      <td>Momos, Lunch Buffet, Chocolate Nirvana, Thai G...</td>\n",
       "      <td>Chinese, North Indian, Thai</td>\n",
       "      <td>800.0</td>\n",
       "      <td>[('Rated 4.0', 'RATED\\n  Had been here for din...</td>\n",
       "      <td>Buffet</td>\n",
       "      <td>Banashankari</td>\n",
       "    </tr>\n",
       "    <tr>\n",
       "      <th>2</th>\n",
       "      <td>https://www.zomato.com/SanchurroBangalore?cont...</td>\n",
       "      <td>1112, Next to KIMS Medical College, 17th Cross...</td>\n",
       "      <td>San Churro Cafe</td>\n",
       "      <td>Yes</td>\n",
       "      <td>No</td>\n",
       "      <td>3.8</td>\n",
       "      <td>918</td>\n",
       "      <td>Cafe, Casual Dining</td>\n",
       "      <td>Churros, Cannelloni, Minestrone Soup, Hot Choc...</td>\n",
       "      <td>Cafe, Mexican, Italian</td>\n",
       "      <td>800.0</td>\n",
       "      <td>[('Rated 3.0', \"RATED\\n  Ambience is not that ...</td>\n",
       "      <td>Buffet</td>\n",
       "      <td>Banashankari</td>\n",
       "    </tr>\n",
       "  </tbody>\n",
       "</table>\n",
       "</div>"
      ],
      "text/plain": [
       "                                                 url  \\\n",
       "0  https://www.zomato.com/bangalore/jalsa-banasha...   \n",
       "1  https://www.zomato.com/bangalore/spice-elephan...   \n",
       "2  https://www.zomato.com/SanchurroBangalore?cont...   \n",
       "\n",
       "                                             address             name  \\\n",
       "0  942, 21st Main Road, 2nd Stage, Banashankari, ...            Jalsa   \n",
       "1  2nd Floor, 80 Feet Road, Near Big Bazaar, 6th ...   Spice Elephant   \n",
       "2  1112, Next to KIMS Medical College, 17th Cross...  San Churro Cafe   \n",
       "\n",
       "  online_order book_table  rate  votes            rest_type  \\\n",
       "0          Yes        Yes   4.1    775        Casual Dining   \n",
       "1          Yes         No   4.1    787        Casual Dining   \n",
       "2          Yes         No   3.8    918  Cafe, Casual Dining   \n",
       "\n",
       "                                          dish_liked  \\\n",
       "0  Pasta, Lunch Buffet, Masala Papad, Paneer Laja...   \n",
       "1  Momos, Lunch Buffet, Chocolate Nirvana, Thai G...   \n",
       "2  Churros, Cannelloni, Minestrone Soup, Hot Choc...   \n",
       "\n",
       "                         cuisines   Cost  \\\n",
       "0  North Indian, Mughlai, Chinese  800.0   \n",
       "1     Chinese, North Indian, Thai  800.0   \n",
       "2          Cafe, Mexican, Italian  800.0   \n",
       "\n",
       "                                        reviews_list    Type          City  \n",
       "0  [('Rated 4.0', 'RATED\\n  A beautiful place to ...  Buffet  Banashankari  \n",
       "1  [('Rated 4.0', 'RATED\\n  Had been here for din...  Buffet  Banashankari  \n",
       "2  [('Rated 3.0', \"RATED\\n  Ambience is not that ...  Buffet  Banashankari  "
      ]
     },
     "execution_count": 310,
     "metadata": {},
     "output_type": "execute_result"
    }
   ],
   "source": [
    "df1.head(3)    #viewing now below 1000 considering as others"
   ]
  },
  {
   "cell_type": "code",
   "execution_count": 311,
   "id": "a9eb7475",
   "metadata": {},
   "outputs": [
    {
     "data": {
      "text/plain": [
       "array(['Banashankari', 'Bannerghatta Road', 'Basavanagudi', 'Bellandur',\n",
       "       'Brigade Road', 'Brookefield', 'BTM', 'Church Street',\n",
       "       'Electronic City', 'Frazer Town', 'HSR', 'Indiranagar',\n",
       "       'Jayanagar', 'JP Nagar', 'Kalyan Nagar', 'Kammanahalli',\n",
       "       'Koramangala 4th Block', 'Koramangala 5th Block',\n",
       "       'Koramangala 6th Block', 'Koramangala 7th Block', 'Lavelle Road',\n",
       "       'Malleshwaram', 'Marathahalli', 'MG Road', 'New BEL Road',\n",
       "       'Old Airport Road', 'Rajajinagar', 'Residency Road',\n",
       "       'Sarjapur Road', 'Whitefield'], dtype=object)"
      ]
     },
     "execution_count": 311,
     "metadata": {},
     "output_type": "execute_result"
    }
   ],
   "source": [
    "# Let's start cleaning for \"City\"\n",
    "df1[\"City\"].unique()"
   ]
  },
  {
   "cell_type": "code",
   "execution_count": 312,
   "id": "a930932a",
   "metadata": {},
   "outputs": [
    {
     "data": {
      "text/plain": [
       "BTM                      3279\n",
       "Koramangala 7th Block    2938\n",
       "Koramangala 5th Block    2836\n",
       "Koramangala 4th Block    2779\n",
       "Koramangala 6th Block    2623\n",
       "Jayanagar                2371\n",
       "JP Nagar                 2096\n",
       "Indiranagar              1860\n",
       "Church Street            1827\n",
       "MG Road                  1811\n",
       "Brigade Road             1769\n",
       "Lavelle Road             1744\n",
       "HSR                      1741\n",
       "Marathahalli             1659\n",
       "Residency Road           1620\n",
       "Whitefield               1620\n",
       "Bannerghatta Road        1617\n",
       "Brookefield              1518\n",
       "Old Airport Road         1425\n",
       "Kammanahalli             1329\n",
       "Kalyan Nagar             1309\n",
       "Basavanagudi             1266\n",
       "Sarjapur Road            1261\n",
       "Electronic City          1229\n",
       "Bellandur                1227\n",
       "Frazer Town              1185\n",
       "Malleshwaram             1096\n",
       "Rajajinagar              1079\n",
       "Banashankari              863\n",
       "New BEL Road              740\n",
       "Name: City, dtype: int64"
      ]
     },
     "execution_count": 312,
     "metadata": {},
     "output_type": "execute_result"
    }
   ],
   "source": [
    "df1[\"City\"].value_counts() #Cities column almost cleand so no need for cleaning."
   ]
  },
  {
   "cell_type": "code",
   "execution_count": 313,
   "id": "b186fe55",
   "metadata": {},
   "outputs": [
    {
     "data": {
      "text/plain": [
       "array(['North Indian, Mughlai, Chinese', 'Chinese, North Indian, Thai',\n",
       "       'Cafe, Mexican, Italian', ...,\n",
       "       'North Indian, Street Food, Biryani', 'Chinese, Mughlai',\n",
       "       'North Indian, Chinese, Arabian, Momos'], dtype=object)"
      ]
     },
     "execution_count": 313,
     "metadata": {},
     "output_type": "execute_result"
    }
   ],
   "source": [
    "#Now time to clean for \"Cuisines \" column\n",
    "df1[\"cuisines\"].unique()"
   ]
  },
  {
   "cell_type": "code",
   "execution_count": 314,
   "id": "644eb5b3",
   "metadata": {},
   "outputs": [
    {
     "data": {
      "text/plain": [
       "North Indian                                   2913\n",
       "North Indian, Chinese                          2385\n",
       "South Indian                                   1828\n",
       "Biryani                                         918\n",
       "Bakery, Desserts                                911\n",
       "                                               ... \n",
       "North Indian, Chinese, South Indian, Juices       1\n",
       "North Indian, Chinese, Kebab, Mughlai             1\n",
       "Chinese, Vietnamese, Thai, Malaysian              1\n",
       "Arabian, Lebanese, Chinese, Rolls                 1\n",
       "North Indian, Chinese, Arabian, Momos             1\n",
       "Name: cuisines, Length: 2723, dtype: int64"
      ]
     },
     "execution_count": 314,
     "metadata": {},
     "output_type": "execute_result"
    }
   ],
   "source": [
    "df1[\"cuisines\"].value_counts()   #Here viewing lot of cuisines less than 10.........oppps. Let's clean"
   ]
  },
  {
   "cell_type": "code",
   "execution_count": 315,
   "id": "28a752d9",
   "metadata": {},
   "outputs": [],
   "source": [
    "Cuisines=df1[\"cuisines\"].value_counts(ascending=False)"
   ]
  },
  {
   "cell_type": "code",
   "execution_count": 316,
   "id": "ae3006d7",
   "metadata": {},
   "outputs": [],
   "source": [
    "Cuisines_below100=Cuisines[Cuisines<100]"
   ]
  },
  {
   "cell_type": "code",
   "execution_count": 317,
   "id": "1130c9ea",
   "metadata": {},
   "outputs": [
    {
     "data": {
      "text/plain": [
       "North Indian, Continental, Chinese             97\n",
       "Juices                                         94\n",
       "Fast Food, North Indian                        93\n",
       "Bengali, North Indian                          93\n",
       "Beverages, Juices                              90\n",
       "                                               ..\n",
       "North Indian, Chinese, South Indian, Juices     1\n",
       "North Indian, Chinese, Kebab, Mughlai           1\n",
       "Chinese, Vietnamese, Thai, Malaysian            1\n",
       "Arabian, Lebanese, Chinese, Rolls               1\n",
       "North Indian, Chinese, Arabian, Momos           1\n",
       "Name: cuisines, Length: 2654, dtype: int64"
      ]
     },
     "execution_count": 317,
     "metadata": {},
     "output_type": "execute_result"
    }
   ],
   "source": [
    "Cuisines_below100         #Lot of cuisines less than 100. Again we will consider these in Others category"
   ]
  },
  {
   "cell_type": "code",
   "execution_count": 318,
   "id": "3c484111",
   "metadata": {},
   "outputs": [],
   "source": [
    "def handle_cuisines(value):\n",
    "    if (value in Cuisines_below100):\n",
    "        return \"Others\"\n",
    "    else:\n",
    "        return value"
   ]
  },
  {
   "cell_type": "code",
   "execution_count": 319,
   "id": "0461032f",
   "metadata": {},
   "outputs": [],
   "source": [
    "df1[\"cuisines\"]=df1[\"cuisines\"].apply(handle_cuisines)"
   ]
  },
  {
   "cell_type": "code",
   "execution_count": 320,
   "id": "96effa93",
   "metadata": {},
   "outputs": [
    {
     "data": {
      "text/plain": [
       "Others                                 26460\n",
       "North Indian                            2913\n",
       "North Indian, Chinese                   2385\n",
       "South Indian                            1828\n",
       "Biryani                                  918\n",
       "                                       ...  \n",
       "South Indian, Chinese, North Indian      105\n",
       "Italian, Pizza                           105\n",
       "North Indian, Mughlai, Chinese           104\n",
       "South Indian, Fast Food                  104\n",
       "North Indian, Chinese, Seafood           102\n",
       "Name: cuisines, Length: 70, dtype: int64"
      ]
     },
     "execution_count": 320,
     "metadata": {},
     "output_type": "execute_result"
    }
   ],
   "source": [
    "df1[\"cuisines\"].value_counts()   #Here we are viewing untill 100 . Below 100 will be consider oin others"
   ]
  },
  {
   "cell_type": "code",
   "execution_count": 321,
   "id": "47e47a75",
   "metadata": {},
   "outputs": [
    {
     "data": {
      "text/html": [
       "<div>\n",
       "<style scoped>\n",
       "    .dataframe tbody tr th:only-of-type {\n",
       "        vertical-align: middle;\n",
       "    }\n",
       "\n",
       "    .dataframe tbody tr th {\n",
       "        vertical-align: top;\n",
       "    }\n",
       "\n",
       "    .dataframe thead th {\n",
       "        text-align: right;\n",
       "    }\n",
       "</style>\n",
       "<table border=\"1\" class=\"dataframe\">\n",
       "  <thead>\n",
       "    <tr style=\"text-align: right;\">\n",
       "      <th></th>\n",
       "      <th>url</th>\n",
       "      <th>address</th>\n",
       "      <th>name</th>\n",
       "      <th>online_order</th>\n",
       "      <th>book_table</th>\n",
       "      <th>rate</th>\n",
       "      <th>votes</th>\n",
       "      <th>rest_type</th>\n",
       "      <th>dish_liked</th>\n",
       "      <th>cuisines</th>\n",
       "      <th>Cost</th>\n",
       "      <th>reviews_list</th>\n",
       "      <th>Type</th>\n",
       "      <th>City</th>\n",
       "    </tr>\n",
       "  </thead>\n",
       "  <tbody>\n",
       "    <tr>\n",
       "      <th>0</th>\n",
       "      <td>https://www.zomato.com/bangalore/jalsa-banasha...</td>\n",
       "      <td>942, 21st Main Road, 2nd Stage, Banashankari, ...</td>\n",
       "      <td>Jalsa</td>\n",
       "      <td>Yes</td>\n",
       "      <td>Yes</td>\n",
       "      <td>4.1</td>\n",
       "      <td>775</td>\n",
       "      <td>Casual Dining</td>\n",
       "      <td>Pasta, Lunch Buffet, Masala Papad, Paneer Laja...</td>\n",
       "      <td>North Indian, Mughlai, Chinese</td>\n",
       "      <td>800.0</td>\n",
       "      <td>[('Rated 4.0', 'RATED\\n  A beautiful place to ...</td>\n",
       "      <td>Buffet</td>\n",
       "      <td>Banashankari</td>\n",
       "    </tr>\n",
       "    <tr>\n",
       "      <th>1</th>\n",
       "      <td>https://www.zomato.com/bangalore/spice-elephan...</td>\n",
       "      <td>2nd Floor, 80 Feet Road, Near Big Bazaar, 6th ...</td>\n",
       "      <td>Spice Elephant</td>\n",
       "      <td>Yes</td>\n",
       "      <td>No</td>\n",
       "      <td>4.1</td>\n",
       "      <td>787</td>\n",
       "      <td>Casual Dining</td>\n",
       "      <td>Momos, Lunch Buffet, Chocolate Nirvana, Thai G...</td>\n",
       "      <td>Others</td>\n",
       "      <td>800.0</td>\n",
       "      <td>[('Rated 4.0', 'RATED\\n  Had been here for din...</td>\n",
       "      <td>Buffet</td>\n",
       "      <td>Banashankari</td>\n",
       "    </tr>\n",
       "    <tr>\n",
       "      <th>2</th>\n",
       "      <td>https://www.zomato.com/SanchurroBangalore?cont...</td>\n",
       "      <td>1112, Next to KIMS Medical College, 17th Cross...</td>\n",
       "      <td>San Churro Cafe</td>\n",
       "      <td>Yes</td>\n",
       "      <td>No</td>\n",
       "      <td>3.8</td>\n",
       "      <td>918</td>\n",
       "      <td>Cafe, Casual Dining</td>\n",
       "      <td>Churros, Cannelloni, Minestrone Soup, Hot Choc...</td>\n",
       "      <td>Others</td>\n",
       "      <td>800.0</td>\n",
       "      <td>[('Rated 3.0', \"RATED\\n  Ambience is not that ...</td>\n",
       "      <td>Buffet</td>\n",
       "      <td>Banashankari</td>\n",
       "    </tr>\n",
       "    <tr>\n",
       "      <th>3</th>\n",
       "      <td>https://www.zomato.com/bangalore/addhuri-udupi...</td>\n",
       "      <td>1st Floor, Annakuteera, 3rd Stage, Banashankar...</td>\n",
       "      <td>Addhuri Udupi Bhojana</td>\n",
       "      <td>No</td>\n",
       "      <td>No</td>\n",
       "      <td>3.7</td>\n",
       "      <td>88</td>\n",
       "      <td>Quick Bites</td>\n",
       "      <td>Masala Dosa</td>\n",
       "      <td>South Indian, North Indian</td>\n",
       "      <td>300.0</td>\n",
       "      <td>[('Rated 4.0', \"RATED\\n  Great food and proper...</td>\n",
       "      <td>Buffet</td>\n",
       "      <td>Banashankari</td>\n",
       "    </tr>\n",
       "    <tr>\n",
       "      <th>4</th>\n",
       "      <td>https://www.zomato.com/bangalore/grand-village...</td>\n",
       "      <td>10, 3rd Floor, Lakshmi Associates, Gandhi Baza...</td>\n",
       "      <td>Grand Village</td>\n",
       "      <td>No</td>\n",
       "      <td>No</td>\n",
       "      <td>3.8</td>\n",
       "      <td>166</td>\n",
       "      <td>Casual Dining</td>\n",
       "      <td>Panipuri, Gol Gappe</td>\n",
       "      <td>Others</td>\n",
       "      <td>600.0</td>\n",
       "      <td>[('Rated 4.0', 'RATED\\n  Very good restaurant ...</td>\n",
       "      <td>Buffet</td>\n",
       "      <td>Banashankari</td>\n",
       "    </tr>\n",
       "  </tbody>\n",
       "</table>\n",
       "</div>"
      ],
      "text/plain": [
       "                                                 url  \\\n",
       "0  https://www.zomato.com/bangalore/jalsa-banasha...   \n",
       "1  https://www.zomato.com/bangalore/spice-elephan...   \n",
       "2  https://www.zomato.com/SanchurroBangalore?cont...   \n",
       "3  https://www.zomato.com/bangalore/addhuri-udupi...   \n",
       "4  https://www.zomato.com/bangalore/grand-village...   \n",
       "\n",
       "                                             address                   name  \\\n",
       "0  942, 21st Main Road, 2nd Stage, Banashankari, ...                  Jalsa   \n",
       "1  2nd Floor, 80 Feet Road, Near Big Bazaar, 6th ...         Spice Elephant   \n",
       "2  1112, Next to KIMS Medical College, 17th Cross...        San Churro Cafe   \n",
       "3  1st Floor, Annakuteera, 3rd Stage, Banashankar...  Addhuri Udupi Bhojana   \n",
       "4  10, 3rd Floor, Lakshmi Associates, Gandhi Baza...          Grand Village   \n",
       "\n",
       "  online_order book_table  rate  votes            rest_type  \\\n",
       "0          Yes        Yes   4.1    775        Casual Dining   \n",
       "1          Yes         No   4.1    787        Casual Dining   \n",
       "2          Yes         No   3.8    918  Cafe, Casual Dining   \n",
       "3           No         No   3.7     88          Quick Bites   \n",
       "4           No         No   3.8    166        Casual Dining   \n",
       "\n",
       "                                          dish_liked  \\\n",
       "0  Pasta, Lunch Buffet, Masala Papad, Paneer Laja...   \n",
       "1  Momos, Lunch Buffet, Chocolate Nirvana, Thai G...   \n",
       "2  Churros, Cannelloni, Minestrone Soup, Hot Choc...   \n",
       "3                                        Masala Dosa   \n",
       "4                                Panipuri, Gol Gappe   \n",
       "\n",
       "                         cuisines   Cost  \\\n",
       "0  North Indian, Mughlai, Chinese  800.0   \n",
       "1                          Others  800.0   \n",
       "2                          Others  800.0   \n",
       "3      South Indian, North Indian  300.0   \n",
       "4                          Others  600.0   \n",
       "\n",
       "                                        reviews_list    Type          City  \n",
       "0  [('Rated 4.0', 'RATED\\n  A beautiful place to ...  Buffet  Banashankari  \n",
       "1  [('Rated 4.0', 'RATED\\n  Had been here for din...  Buffet  Banashankari  \n",
       "2  [('Rated 3.0', \"RATED\\n  Ambience is not that ...  Buffet  Banashankari  \n",
       "3  [('Rated 4.0', \"RATED\\n  Great food and proper...  Buffet  Banashankari  \n",
       "4  [('Rated 4.0', 'RATED\\n  Very good restaurant ...  Buffet  Banashankari  "
      ]
     },
     "execution_count": 321,
     "metadata": {},
     "output_type": "execute_result"
    }
   ],
   "source": [
    "df1.head()     #[\"cuisines\"] also almost done."
   ]
  },
  {
   "cell_type": "code",
   "execution_count": 322,
   "id": "638833cc",
   "metadata": {},
   "outputs": [
    {
     "data": {
      "text/plain": [
       "array(['Buffet', 'Cafes', 'Delivery', 'Desserts', 'Dine-out',\n",
       "       'Drinks & nightlife', 'Pubs and bars'], dtype=object)"
      ]
     },
     "execution_count": 322,
     "metadata": {},
     "output_type": "execute_result"
    }
   ],
   "source": [
    "# Start work on \"Type\"\n",
    "df1[\"Type\"].unique()"
   ]
  },
  {
   "cell_type": "code",
   "execution_count": 323,
   "id": "1c31aeed",
   "metadata": {},
   "outputs": [
    {
     "data": {
      "text/plain": [
       "Delivery              25942\n",
       "Dine-out              17779\n",
       "Desserts               3593\n",
       "Cafes                  1723\n",
       "Drinks & nightlife     1101\n",
       "Buffet                  882\n",
       "Pubs and bars           697\n",
       "Name: Type, dtype: int64"
      ]
     },
     "execution_count": 323,
     "metadata": {},
     "output_type": "execute_result"
    }
   ],
   "source": [
    "df1[\"Type\"].value_counts()"
   ]
  },
  {
   "cell_type": "markdown",
   "id": "9ab18563",
   "metadata": {},
   "source": [
    "Cleaning part almost done"
   ]
  },
  {
   "cell_type": "markdown",
   "id": "673b2131",
   "metadata": {},
   "source": [
    "# Exploratry Data Analysis & Visualization"
   ]
  },
  {
   "cell_type": "markdown",
   "id": "dee5b84d",
   "metadata": {},
   "source": [
    "How many chains and outlets in dataframe"
   ]
  },
  {
   "cell_type": "code",
   "execution_count": 324,
   "id": "be4599ab",
   "metadata": {},
   "outputs": [],
   "source": [
    "\n",
    "outlets=df1[\"name\"].value_counts()"
   ]
  },
  {
   "cell_type": "code",
   "execution_count": 325,
   "id": "ef1d7e74",
   "metadata": {},
   "outputs": [
    {
     "data": {
      "text/plain": [
       "Cafe Coffee Day                                            96\n",
       "Onesta                                                     85\n",
       "Just Bake                                                  73\n",
       "Empire Restaurant                                          71\n",
       "Five Star Chicken                                          70\n",
       "                                                           ..\n",
       "Natis                                                       1\n",
       "Shreyas                                                     1\n",
       "Vishwas Kabab Centre                                        1\n",
       "Taj Biryani Centre                                          1\n",
       "Plunge - Sheraton Grand Bengaluru Whitefield Hotel &...     1\n",
       "Name: name, Length: 8792, dtype: int64"
      ]
     },
     "execution_count": 325,
     "metadata": {},
     "output_type": "execute_result"
    }
   ],
   "source": [
    "outlets  #Viewing outlets"
   ]
  },
  {
   "cell_type": "code",
   "execution_count": 326,
   "id": "7fc2560f",
   "metadata": {},
   "outputs": [],
   "source": [
    "chains=outlets[outlets>=2]    "
   ]
  },
  {
   "cell_type": "code",
   "execution_count": 327,
   "id": "33b08be0",
   "metadata": {},
   "outputs": [
    {
     "data": {
      "text/plain": [
       "Cafe Coffee Day                     96\n",
       "Onesta                              85\n",
       "Just Bake                           73\n",
       "Empire Restaurant                   71\n",
       "Five Star Chicken                   70\n",
       "                                    ..\n",
       "Cafe Ritzz                           2\n",
       "Celeste's Kitchen                    2\n",
       "Angel Mutton Leg Soup                2\n",
       "Stop 'N' Joy                         2\n",
       "Mylari Biryani Family Restaurant     2\n",
       "Name: name, Length: 7715, dtype: int64"
      ]
     },
     "execution_count": 327,
     "metadata": {},
     "output_type": "execute_result"
    }
   ],
   "source": [
    "chains #We can observe restaurant chains . "
   ]
  },
  {
   "cell_type": "code",
   "execution_count": 328,
   "id": "317c955e",
   "metadata": {},
   "outputs": [
    {
     "data": {
      "text/plain": [
       "Cafe Coffee Day      96\n",
       "Onesta               85\n",
       "Just Bake            73\n",
       "Empire Restaurant    71\n",
       "Five Star Chicken    70\n",
       "Kanti Sweets         68\n",
       "Petoo                66\n",
       "Polar Bear           65\n",
       "Baskin Robbins       64\n",
       "Chef Baker's         62\n",
       "Name: name, dtype: int64"
      ]
     },
     "execution_count": 328,
     "metadata": {},
     "output_type": "execute_result"
    }
   ],
   "source": [
    "#Top 10 restaurant chains\n",
    "chains.head(10)"
   ]
  },
  {
   "cell_type": "markdown",
   "id": "170da92d",
   "metadata": {},
   "source": [
    "# Visualize top 10 restaurants chain"
   ]
  },
  {
   "cell_type": "code",
   "execution_count": 329,
   "id": "0be54f21",
   "metadata": {},
   "outputs": [],
   "source": [
    "#Visualize top 10 restaurants chain\n",
    "top10_chains=df1[\"name\"].value_counts()[:10].sort_values(ascending=True)"
   ]
  },
  {
   "cell_type": "code",
   "execution_count": 330,
   "id": "6834d92d",
   "metadata": {},
   "outputs": [
    {
     "data": {
      "text/plain": [
       "Text(0.5, 1.0, 'Top 10 Restaurant chain in India (by number of outlets)')"
      ]
     },
     "execution_count": 330,
     "metadata": {},
     "output_type": "execute_result"
    },
    {
     "data": {
      "image/png": "[encoded data removed]",
      "text/plain": [
       "<Figure size 1100x700 with 1 Axes>"
      ]
     },
     "metadata": {},
     "output_type": "display_data"
    }
   ],
   "source": [
    "height=top10_chains.values\n",
    "bars=top10_chains.index\n",
    "y_pos = np.arange(len(bars))\n",
    "\n",
    "fig=plt.figure(figsize=[11,7],frameon=False)\n",
    "ax=fig.gca()\n",
    "ax.spines[\"top\"].set_visible(\"#424242\")\n",
    "ax.spines[\"right\"].set_visible(False)\n",
    "ax.spines[\"left\"].set_color(\"#424242\")\n",
    "ax.spines[\"bottom\"].set_color(\"#424242\")\n",
    "\n",
    "colors = [\"#f9cdac\",\"#f2a49f\",\"#ec7c92\",\"#e65586\",\"#bc438b\",\"#933291\",\"#692398\",\"#551c7b\",\"#41155e\",\"#2d0f41\"]\n",
    "plt.barh(y_pos, height, color=colors)\n",
    "\n",
    "plt.xticks(color=\"#424242\")\n",
    "\n",
    "plt.yticks(y_pos, bars, color=\"#424242\")\n",
    "plt.xlabel(\"Number of outlets in India\")\n",
    "\n",
    "for i, v in enumerate(height):\n",
    "    ax.text(v+3, i, str(v), color='#424242')\n",
    "plt.title(\"Top 10 Restaurant chain in India (by number of outlets)\")\n",
    "\n",
    "\n"
   ]
  },
  {
   "cell_type": "markdown",
   "id": "a7702366",
   "metadata": {},
   "source": [
    "# Restaurant Types Visualization"
   ]
  },
  {
   "cell_type": "code",
   "execution_count": 331,
   "id": "fda2ec69",
   "metadata": {},
   "outputs": [],
   "source": [
    "rest_count = df1.groupby(\"rest_type\").count()[\"name\"].sort_values(ascending=False)[:5]"
   ]
  },
  {
   "cell_type": "code",
   "execution_count": 332,
   "id": "12a77293",
   "metadata": {},
   "outputs": [
    {
     "data": {
      "text/plain": [
       "Text(0.5, 1.0, 'Number of restaurants (by Restaurant types)')"
      ]
     },
     "execution_count": 332,
     "metadata": {},
     "output_type": "execute_result"
    },
    {
     "data": {
      "image/png": "[encoded data removed]",
      "text/plain": [
       "<Figure size 800x500 with 1 Axes>"
      ]
     },
     "metadata": {},
     "output_type": "display_data"
    }
   ],
   "source": [
    "fig = plt.figure(figsize=[8,5], frameon=False)\n",
    "ax = fig.gca()\n",
    "ax.spines[\"top\"].set_visible(False)\n",
    "ax.spines[\"right\"].set_visible(False)\n",
    "ax.spines[\"left\"].set_color(\"#424242\")\n",
    "ax.spines[\"bottom\"].set_color(\"#424242\")\n",
    "\n",
    "colors = [\"#2d0f41\",'#933291',\"#e65586\",\"#f2a49f\",\"#f9cdac\"]\n",
    "plt.bar(rest_count.index, rest_count.values, color=colors)\n",
    "\n",
    "plt.xticks(range(0, 6), color=\"#424242\")\n",
    "plt.yticks(range(0, 25000, 5000), color=\"#424242\")\n",
    "plt.xlabel(\"Top 5 Restaurant types\")\n",
    "\n",
    "for i, v in enumerate(rest_count):\n",
    "    ax.text(i-0.2, v+500, str(v), color='#424242')\n",
    "plt.title(\"Number of restaurants (by Restaurant types)\")\n"
   ]
  },
  {
   "cell_type": "markdown",
   "id": "56783ba3",
   "metadata": {},
   "source": [
    "# Average Ratings & Votes"
   ]
  },
  {
   "cell_type": "code",
   "execution_count": 333,
   "id": "a344a662",
   "metadata": {},
   "outputs": [],
   "source": [
    "rating_by_rest = df1.groupby(\"rest_type\").mean()[\"rate\"].sort_values(ascending=False)\n"
   ]
  },
  {
   "cell_type": "code",
   "execution_count": 334,
   "id": "1ae2cf26",
   "metadata": {},
   "outputs": [
    {
     "data": {
      "text/html": [
       "<div>\n",
       "<style scoped>\n",
       "    .dataframe tbody tr th:only-of-type {\n",
       "        vertical-align: middle;\n",
       "    }\n",
       "\n",
       "    .dataframe tbody tr th {\n",
       "        vertical-align: top;\n",
       "    }\n",
       "\n",
       "    .dataframe thead th {\n",
       "        text-align: right;\n",
       "    }\n",
       "</style>\n",
       "<table border=\"1\" class=\"dataframe\">\n",
       "  <thead>\n",
       "    <tr style=\"text-align: right;\">\n",
       "      <th></th>\n",
       "      <th>rate</th>\n",
       "      <th>votes</th>\n",
       "      <th>Cost</th>\n",
       "    </tr>\n",
       "  </thead>\n",
       "  <tbody>\n",
       "    <tr>\n",
       "      <th>count</th>\n",
       "      <td>51717.000000</td>\n",
       "      <td>51717.000000</td>\n",
       "      <td>51371.000000</td>\n",
       "    </tr>\n",
       "    <tr>\n",
       "      <th>mean</th>\n",
       "      <td>3.700449</td>\n",
       "      <td>283.697527</td>\n",
       "      <td>555.431566</td>\n",
       "    </tr>\n",
       "    <tr>\n",
       "      <th>std</th>\n",
       "      <td>0.395391</td>\n",
       "      <td>803.838853</td>\n",
       "      <td>438.850728</td>\n",
       "    </tr>\n",
       "    <tr>\n",
       "      <th>min</th>\n",
       "      <td>1.800000</td>\n",
       "      <td>0.000000</td>\n",
       "      <td>40.000000</td>\n",
       "    </tr>\n",
       "    <tr>\n",
       "      <th>25%</th>\n",
       "      <td>3.500000</td>\n",
       "      <td>7.000000</td>\n",
       "      <td>300.000000</td>\n",
       "    </tr>\n",
       "    <tr>\n",
       "      <th>50%</th>\n",
       "      <td>3.700449</td>\n",
       "      <td>41.000000</td>\n",
       "      <td>400.000000</td>\n",
       "    </tr>\n",
       "    <tr>\n",
       "      <th>75%</th>\n",
       "      <td>3.900000</td>\n",
       "      <td>198.000000</td>\n",
       "      <td>650.000000</td>\n",
       "    </tr>\n",
       "    <tr>\n",
       "      <th>max</th>\n",
       "      <td>4.900000</td>\n",
       "      <td>16832.000000</td>\n",
       "      <td>6000.000000</td>\n",
       "    </tr>\n",
       "  </tbody>\n",
       "</table>\n",
       "</div>"
      ],
      "text/plain": [
       "               rate         votes          Cost\n",
       "count  51717.000000  51717.000000  51371.000000\n",
       "mean       3.700449    283.697527    555.431566\n",
       "std        0.395391    803.838853    438.850728\n",
       "min        1.800000      0.000000     40.000000\n",
       "25%        3.500000      7.000000    300.000000\n",
       "50%        3.700449     41.000000    400.000000\n",
       "75%        3.900000    198.000000    650.000000\n",
       "max        4.900000  16832.000000   6000.000000"
      ]
     },
     "execution_count": 334,
     "metadata": {},
     "output_type": "execute_result"
    }
   ],
   "source": [
    "df1.describe()"
   ]
  },
  {
   "cell_type": "code",
   "execution_count": 335,
   "id": "cc9276de",
   "metadata": {},
   "outputs": [
    {
     "data": {
      "text/plain": [
       "rest_type\n",
       "Microbrewery                   6443.766667\n",
       "Microbrewery, Pub              5504.452381\n",
       "Lounge, Microbrewery           4653.000000\n",
       "Pub, Cafe                      4472.875000\n",
       "Pub, Microbrewery              4174.380952\n",
       "Casual Dining, Irani Cafee     3686.600000\n",
       "Casual Dining, Microbrewery    2527.237288\n",
       "Fine Dining, Lounge            2236.785714\n",
       "Microbrewery, Lounge           2225.777778\n",
       "Cafe, Casual Dining            1952.329480\n",
       "Name: votes, dtype: float64"
      ]
     },
     "execution_count": 335,
     "metadata": {},
     "output_type": "execute_result"
    }
   ],
   "source": [
    "df1.groupby(\"rest_type\").mean()[\"votes\"].sort_values(ascending=False)[:10]"
   ]
  },
  {
   "cell_type": "markdown",
   "id": "1819b0d0",
   "metadata": {},
   "source": [
    "# No.of restaurants by cities"
   ]
  },
  {
   "cell_type": "code",
   "execution_count": 336,
   "id": "ab8cced6",
   "metadata": {},
   "outputs": [],
   "source": [
    "city_counts = df1.groupby(\"City\").count()[\"name\"].sort_values(ascending=True)[-10:]"
   ]
  },
  {
   "cell_type": "code",
   "execution_count": 337,
   "id": "98373a33",
   "metadata": {},
   "outputs": [
    {
     "data": {
      "text/plain": [
       "Text(0.5, 1.0, 'Number of restaurants (by city)')"
      ]
     },
     "execution_count": 337,
     "metadata": {},
     "output_type": "execute_result"
    },
    {
     "data": {
      "image/png": "[encoded data removed]",
      "text/plain": [
       "<Figure size 1100x700 with 1 Axes>"
      ]
     },
     "metadata": {},
     "output_type": "display_data"
    }
   ],
   "source": [
    "height = pd.Series(city_counts.values)\n",
    "bars = city_counts.index\n",
    "y_pos = np.arange(len(bars))\n",
    "\n",
    "fig = plt.figure(figsize=[11,7], frameon=False)\n",
    "ax = fig.gca()\n",
    "ax.spines[\"top\"].set_visible(\"#424242\")\n",
    "ax.spines[\"right\"].set_visible(False)\n",
    "ax.spines[\"left\"].set_color(\"#424242\")\n",
    "ax.spines[\"bottom\"].set_color(\"#424242\")\n",
    "\n",
    "colors = ['#dcecc9', '#aadacc', '#78c6d0', '#48b3d3', '#3e94c0', '#3474ac', '#2a5599', '#203686', '#18216b', '#11174b']\n",
    "\n",
    "plt.barh(y_pos, height, color=colors)\n",
    "\n",
    "plt.xlim(3)\n",
    "plt.xticks(color=\"#424242\")\n",
    "plt.yticks(y_pos, bars, color=\"#424242\")\n",
    "plt.xlabel(\"Number of outlets\")\n",
    "\n",
    "for i, v in enumerate(height):\n",
    "    ax.text(v + 20, i, str(v), color='#424242')\n",
    "plt.title(\"Number of restaurants (by city)\")"
   ]
  },
  {
   "cell_type": "markdown",
   "id": "86675ae1",
   "metadata": {},
   "source": [
    "# No. of Restaurants by Cuisines"
   ]
  },
  {
   "cell_type": "code",
   "execution_count": 338,
   "id": "60646e2c",
   "metadata": {},
   "outputs": [
    {
     "data": {
      "text/plain": [
       "70"
      ]
     },
     "execution_count": 338,
     "metadata": {},
     "output_type": "execute_result"
    }
   ],
   "source": [
    "df1[\"cuisines\"].nunique()"
   ]
  },
  {
   "cell_type": "code",
   "execution_count": 339,
   "id": "a1697db0",
   "metadata": {},
   "outputs": [],
   "source": [
    "Total_number_of_unique_cuisines=df1[\"cuisines\"].value_counts()[:5]"
   ]
  },
  {
   "cell_type": "code",
   "execution_count": 340,
   "id": "e99861ea",
   "metadata": {},
   "outputs": [
    {
     "data": {
      "text/plain": [
       "Others                   26460\n",
       "North Indian              2913\n",
       "North Indian, Chinese     2385\n",
       "South Indian              1828\n",
       "Biryani                    918\n",
       "Name: cuisines, dtype: int64"
      ]
     },
     "execution_count": 340,
     "metadata": {},
     "output_type": "execute_result"
    }
   ],
   "source": [
    "Total_number_of_unique_cuisines"
   ]
  },
  {
   "cell_type": "code",
   "execution_count": 341,
   "id": "2966956c",
   "metadata": {},
   "outputs": [
    {
     "data": {
      "text/plain": [
       "Text(0.5, 1.0, 'Number of restaurants (by cuisine type)')"
      ]
     },
     "execution_count": 341,
     "metadata": {},
     "output_type": "execute_result"
    },
    {
     "data": {
      "image/png": "[encoded data removed]",
      "text/plain": [
       "<Figure size 800x500 with 1 Axes>"
      ]
     },
     "metadata": {},
     "output_type": "display_data"
    }
   ],
   "source": [
    "fig = plt.figure(figsize=[8,5], frameon=False)\n",
    "ax = fig.gca()\n",
    "ax.spines[\"top\"].set_visible(False)\n",
    "ax.spines[\"right\"].set_visible(False)\n",
    "ax.spines[\"left\"].set_color(\"#424242\")\n",
    "ax.spines[\"bottom\"].set_color(\"#424242\")\n",
    "\n",
    "colors = ['#4c3430', '#b04829', '#ec8c41', '#f7c65d','#fded86']\n",
    "plt.bar(Total_number_of_unique_cuisines.index, Total_number_of_unique_cuisines.values, color=colors)\n",
    "\n",
    "plt.xticks(range(0, 6), color=\"#424242\")\n",
    "plt.yticks(range(0, 30000, 5000), color=\"#424242\")\n",
    "plt.xlabel(\"Top 5 cuisines\")\n",
    "\n",
    "for i, v in enumerate(Total_number_of_unique_cuisines):\n",
    "    ax.text(i-0.2, v+500, str(v), color='#424242')\n",
    "plt.title(\"Number of restaurants (by cuisine type)\")"
   ]
  },
  {
   "cell_type": "markdown",
   "id": "502d902b",
   "metadata": {},
   "source": [
    "# Rating Distribution"
   ]
  },
  {
   "cell_type": "code",
   "execution_count": 342,
   "id": "b7373265",
   "metadata": {},
   "outputs": [
    {
     "data": {
      "image/png": "[encoded data removed]",
      "text/plain": [
       "<Figure size 640x480 with 1 Axes>"
      ]
     },
     "metadata": {},
     "output_type": "display_data"
    }
   ],
   "source": [
    "sns.kdeplot(df1['rate'], shade=True)\n",
    "plt.title(\"Ratings distribution\")\n",
    "plt.show()"
   ]
  },
  {
   "cell_type": "markdown",
   "id": "74a42e83",
   "metadata": {},
   "source": [
    "# Cost Distribution"
   ]
  },
  {
   "cell_type": "code",
   "execution_count": 343,
   "id": "2aaf4956",
   "metadata": {},
   "outputs": [
    {
     "data": {
      "image/png": "[encoded data removed]",
      "text/plain": [
       "<Figure size 640x480 with 1 Axes>"
      ]
     },
     "metadata": {},
     "output_type": "display_data"
    }
   ],
   "source": [
    "sns.kdeplot(df1['Cost'], shade=True)\n",
    "plt.title(\"Cost distribution\")\n",
    "plt.show()"
   ]
  },
  {
   "cell_type": "markdown",
   "id": "8997f02f",
   "metadata": {},
   "source": [
    "# Online order visualization"
   ]
  },
  {
   "cell_type": "code",
   "execution_count": 344,
   "id": "41612728",
   "metadata": {},
   "outputs": [
    {
     "data": {
      "text/plain": [
       "<Axes: xlabel='online_order', ylabel='count'>"
      ]
     },
     "execution_count": 344,
     "metadata": {},
     "output_type": "execute_result"
    },
    {
     "data": {
      "image/png": "[encoded data removed]",
      "text/plain": [
       "<Figure size 600x600 with 1 Axes>"
      ]
     },
     "metadata": {},
     "output_type": "display_data"
    }
   ],
   "source": [
    "plt.figure(figsize = (6,6))\n",
    "sns.countplot(x=df1['online_order'],data=df1, palette = 'inferno')"
   ]
  },
  {
   "cell_type": "code",
   "execution_count": null,
   "id": "82bfad4d",
   "metadata": {},
   "outputs": [],
   "source": []
  },
  {
   "cell_type": "markdown",
   "id": "4e71f51b",
   "metadata": {},
   "source": [
    "# Table Booking Visualization"
   ]
  },
  {
   "cell_type": "code",
   "execution_count": 345,
   "id": "bc32d8f3",
   "metadata": {},
   "outputs": [
    {
     "data": {
      "text/plain": [
       "<Axes: xlabel='book_table', ylabel='count'>"
      ]
     },
     "execution_count": 345,
     "metadata": {},
     "output_type": "execute_result"
    },
    {
     "data": {
      "image/png": "[encoded data removed]",
      "text/plain": [
       "<Figure size 600x600 with 1 Axes>"
      ]
     },
     "metadata": {},
     "output_type": "display_data"
    }
   ],
   "source": [
    "plt.figure(figsize = (6,6))\n",
    "sns.countplot(x=df1['book_table'],data=df1, palette = 'rainbow')"
   ]
  },
  {
   "cell_type": "markdown",
   "id": "dddc6d1d",
   "metadata": {},
   "source": [
    "# Online Order V/S Rate"
   ]
  },
  {
   "cell_type": "code",
   "execution_count": 346,
   "id": "3893ce2c",
   "metadata": {},
   "outputs": [
    {
     "data": {
      "image/png": "[encoded data removed]",
      "text/plain": [
       "<Figure size 600x600 with 1 Axes>"
      ]
     },
     "metadata": {},
     "output_type": "display_data"
    }
   ],
   "source": [
    "plt.figure(figsize = (6,6))\n",
    "x=sns.boxplot(x = 'online_order', y = 'rate', data = df1)"
   ]
  },
  {
   "cell_type": "markdown",
   "id": "90d04ef0",
   "metadata": {},
   "source": [
    "# Table Booking V/S Rate"
   ]
  },
  {
   "cell_type": "code",
   "execution_count": 347,
   "id": "6ea7be7d",
   "metadata": {},
   "outputs": [
    {
     "data": {
      "text/plain": [
       "<Axes: xlabel='book_table', ylabel='rate'>"
      ]
     },
     "execution_count": 347,
     "metadata": {},
     "output_type": "execute_result"
    },
    {
     "data": {
      "image/png": "[encoded data removed]",
      "text/plain": [
       "<Figure size 600x600 with 1 Axes>"
      ]
     },
     "metadata": {},
     "output_type": "display_data"
    }
   ],
   "source": [
    "plt.figure(figsize = (6,6))\n",
    "sns.boxplot(x = 'book_table', y = 'rate', data = df1)"
   ]
  },
  {
   "cell_type": "markdown",
   "id": "22c06f50",
   "metadata": {},
   "source": [
    "# Restaurants V/S Rate"
   ]
  },
  {
   "cell_type": "code",
   "execution_count": 348,
   "id": "5685183f",
   "metadata": {},
   "outputs": [
    {
     "data": {
      "text/plain": [
       "<Axes: xlabel='Type', ylabel='rate'>"
      ]
     },
     "execution_count": 348,
     "metadata": {},
     "output_type": "execute_result"
    },
    {
     "data": {
      "image/png": "[encoded data removed]",
      "text/plain": [
       "<Figure size 1400x800 with 1 Axes>"
      ]
     },
     "metadata": {},
     "output_type": "display_data"
    }
   ],
   "source": [
    "plt.figure(figsize = (14, 8))\n",
    "sns.boxplot(x = 'Type', y = 'rate', data = df1, palette = 'inferno')"
   ]
  },
  {
   "cell_type": "code",
   "execution_count": null,
   "id": "13b4037d",
   "metadata": {},
   "outputs": [],
   "source": []
  }
 ],
 "metadata": {
  "kernelspec": {
   "display_name": "Python 3 (ipykernel)",
   "language": "python",
   "name": "python3"
  },
  "language_info": {
   "codemirror_mode": {
    "name": "ipython",
    "version": 3
   },
   "file_extension": ".py",
   "mimetype": "text/x-python",
   "name": "python",
   "nbconvert_exporter": "python",
   "pygments_lexer": "ipython3",
   "version": "3.11.4"
  }
 },
 "nbformat": 4,
 "nbformat_minor": 5
}
